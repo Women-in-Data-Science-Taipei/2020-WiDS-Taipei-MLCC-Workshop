{
 "cells": [
  {
   "cell_type": "code",
   "execution_count": 2,
   "metadata": {},
   "outputs": [
    {
     "name": "stdout",
     "output_type": "stream",
     "text": [
      " 磁碟區 D 中的磁碟是 新增磁碟區\n",
      " 磁碟區序號:  820A-2E4A\n",
      "\n",
      " D:\\WiDS 的目錄\n",
      "\n",
      "2019/11/01  下午 06:05    <DIR>          .\n",
      "2019/11/01  下午 06:05    <DIR>          ..\n",
      "2019/11/01  下午 06:05    <DIR>          .ipynb_checkpoints\n",
      "2019/10/27  上午 10:51           534,010 2020 WiDS MLCC Workshop Case Study X 資料分析技術實戰營準備-2.pdf\n",
      "2019/11/01  下午 06:05                72 dataPreview.ipynb\n",
      "2019/11/01  下午 06:03    <DIR>          kernels\n",
      "2019/11/01  下午 06:03    <DIR>          machine_learning_solution_Code\n",
      "2019/10/30  上午 11:23         9,033,957 olist_customers_dataset.csv\n",
      "2019/10/30  上午 11:28        61,273,883 olist_geolocation_dataset.csv\n",
      "2019/10/30  上午 11:19        17,654,914 olist_orders_dataset.csv\n",
      "2019/10/30  上午 11:21        15,438,671 olist_order_items_dataset.csv\n",
      "2019/10/30  上午 11:24         5,777,138 olist_order_payments_dataset.csv\n",
      "2019/10/30  上午 11:24        14,409,007 olist_order_reviews_dataset.csv\n",
      "2019/10/30  上午 11:25         2,379,446 olist_products_dataset.csv\n",
      "2019/10/30  上午 11:19           174,703 olist_sellers_dataset.csv\n",
      "2019/10/30  上午 11:19             2,613 product_category_name_translation.csv\n",
      "              11 個檔案     126,678,414 位元組\n",
      "               5 個目錄  1,332,250,411,008 位元組可用\n"
     ]
    }
   ],
   "source": [
    "!dir"
   ]
  },
  {
   "cell_type": "markdown",
   "metadata": {},
   "source": [
    "### customer-based, content-based, item-based filtering"
   ]
  },
  {
   "cell_type": "markdown",
   "metadata": {},
   "source": [
    "#### preview of dataset"
   ]
  },
  {
   "cell_type": "code",
   "execution_count": 24,
   "metadata": {},
   "outputs": [
    {
     "name": "stdout",
     "output_type": "stream",
     "text": [
      "our csv list : \n",
      "\n",
      "['olist_customers_dataset.csv', 'olist_geolocation_dataset.csv', 'olist_orders_dataset.csv', 'olist_order_items_dataset.csv', 'olist_order_payments_dataset.csv', 'olist_order_reviews_dataset.csv', 'olist_products_dataset.csv', 'olist_sellers_dataset.csv', 'product_category_name_translation.csv']\n",
      "\n",
      "\n",
      "==================================================COLUMN NAME========================================================\n",
      "olist_customers_dataset.csv :\n",
      "['customer_id', 'customer_unique_id', 'customer_zip_code_prefix', 'customer_city', 'customer_state']\n",
      "\n",
      "olist_geolocation_dataset.csv :\n",
      "['geolocation_zip_code_prefix', 'geolocation_lat', 'geolocation_lng', 'geolocation_city', 'geolocation_state']\n",
      "\n",
      "olist_orders_dataset.csv :\n",
      "['order_id', 'customer_id', 'order_status', 'order_purchase_timestamp', 'order_approved_at', 'order_delivered_carrier_date', 'order_delivered_customer_date', 'order_estimated_delivery_date']\n",
      "\n",
      "olist_order_items_dataset.csv :\n",
      "['order_id', 'order_item_id', 'product_id', 'seller_id', 'shipping_limit_date', 'price', 'freight_value']\n",
      "\n",
      "olist_order_payments_dataset.csv :\n",
      "['order_id', 'payment_sequential', 'payment_type', 'payment_installments', 'payment_value']\n",
      "\n",
      "olist_order_reviews_dataset.csv :\n",
      "['review_id', 'order_id', 'review_score', 'review_comment_title', 'review_comment_message', 'review_creation_date', 'review_answer_timestamp']\n",
      "\n",
      "olist_products_dataset.csv :\n",
      "['product_id', 'product_category_name', 'product_name_lenght', 'product_description_lenght', 'product_photos_qty', 'product_weight_g', 'product_length_cm', 'product_height_cm', 'product_width_cm']\n",
      "\n",
      "olist_sellers_dataset.csv :\n",
      "['seller_id', 'seller_zip_code_prefix', 'seller_city', 'seller_state']\n",
      "\n",
      "product_category_name_translation.csv :\n",
      "['\\ufeffproduct_category_name', 'product_category_name_english']\n",
      "\n"
     ]
    }
   ],
   "source": [
    "import os\n",
    "from os.path import join\n",
    "files = os.listdir('./')\n",
    "csv_filelist = []\n",
    "for i in range(len(files)):\n",
    "    if files[i][-4::] == '.csv':\n",
    "        csv_filelist.append(files[i])\n",
    "print('our csv list : \\n')\n",
    "print('{csv_filelist}'.format(csv_filelist=csv_filelist))\n",
    "print('\\n')\n",
    "print('==================================================COLUMN NAME========================================================')\n",
    "import csv\n",
    "for j in range(len(csv_filelist)):\n",
    "    print('{csvfile} :'.format(csvfile=csv_filelist[j]))\n",
    "    filereader = open(csv_filelist[j],'r',encoding=\"utf-8\") # encoding is to prevent error ''cp950' codec can't decode byte 0xc3'\n",
    "    column_name = next(csv.reader(filereader))\n",
    "    print('{column}\\n'.format(column=column_name))\n",
    "    filereader.close()"
   ]
  },
  {
   "cell_type": "markdown",
   "metadata": {},
   "source": [
    "#### collaborative filtering -- 1. data aggregation"
   ]
  },
  {
   "cell_type": "code",
   "execution_count": null,
   "metadata": {},
   "outputs": [],
   "source": [
    "# https://developers.google.com/machine-learning/recommendation/collaborative/basics\n"
   ]
  }
 ],
 "metadata": {
  "kernelspec": {
   "display_name": "Python 3",
   "language": "python",
   "name": "python3"
  },
  "language_info": {
   "codemirror_mode": {
    "name": "ipython",
    "version": 3
   },
   "file_extension": ".py",
   "mimetype": "text/x-python",
   "name": "python",
   "nbconvert_exporter": "python",
   "pygments_lexer": "ipython3",
   "version": "3.7.5"
  }
 },
 "nbformat": 4,
 "nbformat_minor": 2
}
