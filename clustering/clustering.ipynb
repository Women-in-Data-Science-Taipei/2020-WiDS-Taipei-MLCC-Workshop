{
 "cells": [
  {
   "cell_type": "markdown",
   "metadata": {
    "colab_type": "text",
    "id": "F_2o8FafKJ6c"
   },
   "source": [
    "# Clustering"
   ]
  },
  {
   "cell_type": "code",
   "execution_count": 1,
   "metadata": {
    "ExecuteTime": {
     "end_time": "2019-11-03T05:33:37.514052Z",
     "start_time": "2019-11-03T05:33:36.687772Z"
    },
    "colab": {},
    "colab_type": "code",
    "id": "ZYXB-yddIXTZ"
   },
   "outputs": [],
   "source": [
    "import os\n",
    "import glob\n",
    "\n",
    "import pandas as pd\n",
    "import matplotlib.pyplot as plt\n",
    "import seaborn as sns\n",
    "\n",
    "from sklearn import cluster\n",
    "import collections\n",
    "\n",
    "sns.set(rc={'figure.figsize':(16,9)})\n",
    "%matplotlib inline"
   ]
  },
  {
   "cell_type": "markdown",
   "metadata": {},
   "source": [
    "## Local"
   ]
  },
  {
   "cell_type": "code",
   "execution_count": 2,
   "metadata": {
    "ExecuteTime": {
     "end_time": "2019-11-03T05:33:38.135501Z",
     "start_time": "2019-11-03T05:33:38.132293Z"
    }
   },
   "outputs": [],
   "source": [
    "path = 'dataset/*.csv'"
   ]
  },
  {
   "cell_type": "markdown",
   "metadata": {},
   "source": [
    "## colab"
   ]
  },
  {
   "cell_type": "code",
   "execution_count": 3,
   "metadata": {
    "ExecuteTime": {
     "end_time": "2019-11-03T05:33:19.374805Z",
     "start_time": "2019-11-03T05:33:19.172477Z"
    },
    "colab": {
     "base_uri": "https://localhost:8080/",
     "height": 139
    },
    "colab_type": "code",
    "id": "UQy_MJSvFnHE",
    "outputId": "f42bbf3f-e85a-4efa-e45a-1ee1e671d834"
   },
   "outputs": [
    {
     "ename": "ModuleNotFoundError",
     "evalue": "No module named 'google.colab'",
     "output_type": "error",
     "traceback": [
      "\u001b[0;31m---------------------------------------------------------------------------\u001b[0m",
      "\u001b[0;31mModuleNotFoundError\u001b[0m                       Traceback (most recent call last)",
      "\u001b[0;32m<ipython-input-3-e887f6554442>\u001b[0m in \u001b[0;36m<module>\u001b[0;34m\u001b[0m\n\u001b[0;32m----> 1\u001b[0;31m \u001b[0;32mfrom\u001b[0m \u001b[0mgoogle\u001b[0m\u001b[0;34m.\u001b[0m\u001b[0mcolab\u001b[0m \u001b[0;32mimport\u001b[0m \u001b[0mdrive\u001b[0m\u001b[0;34m\u001b[0m\u001b[0;34m\u001b[0m\u001b[0m\n\u001b[0m\u001b[1;32m      2\u001b[0m \u001b[0;34m\u001b[0m\u001b[0m\n\u001b[1;32m      3\u001b[0m \u001b[0;31m# Mount the folder \"drive\" on google drive to Colab Notebook\u001b[0m\u001b[0;34m\u001b[0m\u001b[0;34m\u001b[0m\u001b[0;34m\u001b[0m\u001b[0m\n\u001b[1;32m      4\u001b[0m \u001b[0mdrive\u001b[0m\u001b[0;34m.\u001b[0m\u001b[0mmount\u001b[0m\u001b[0;34m(\u001b[0m\u001b[0;34m'/content/drive'\u001b[0m\u001b[0;34m)\u001b[0m\u001b[0;34m\u001b[0m\u001b[0;34m\u001b[0m\u001b[0m\n\u001b[1;32m      5\u001b[0m \u001b[0mpath\u001b[0m \u001b[0;34m=\u001b[0m \u001b[0;34m'/content/drive/My Drive/wids-taipei/brazilian-ecommerce/'\u001b[0m\u001b[0;34m\u001b[0m\u001b[0;34m\u001b[0m\u001b[0m\n",
      "\u001b[0;31mModuleNotFoundError\u001b[0m: No module named 'google.colab'"
     ]
    }
   ],
   "source": [
    "from google.colab import drive\n",
    "\n",
    "# Mount the folder \"drive\" on google drive to Colab Notebook\n",
    "drive.mount('/content/drive')\n",
    "path = '/content/drive/My Drive/wids-taipei/brazilian-ecommerce/'\n",
    "\n",
    "# Change current working directory\n",
    "os.chdir(path)"
   ]
  },
  {
   "cell_type": "markdown",
   "metadata": {
    "colab_type": "text",
    "id": "rzEZl1fFKVYu"
   },
   "source": [
    "## Exploring the dataset\n"
   ]
  },
  {
   "cell_type": "markdown",
   "metadata": {
    "colab_type": "text",
    "id": "6BxwchV9XNIj"
   },
   "source": [
    "### About the dataset\n",
    "\n",
    "This dataset has information about the customer and its location. Use it to identify unique customers in the orders dataset and to find the orders delivery location.\n",
    "\n",
    "At our system each order is assigned to a unique `customer_id`. This means that the same customer will get different ids for different orders. The purpose of having a `customer_unique_id` on the dataset is to allow you to identify customers that made repurchases at the store. Otherwise you would find that each order had a different customer associated with.\n",
    "\n",
    "- customer_id: key to the orders dataset. Each order has a unique customer_id.\n",
    "- customer_unique_id: unique identifier of a customer.\n",
    "- customer_zip_code_prefix: first five digits of customer zip code\n",
    "- customer_city: customer city name\n",
    "- customer_state: customer state"
   ]
  },
  {
   "cell_type": "markdown",
   "metadata": {
    "colab_type": "text",
    "id": "mflp1kEwXQcB"
   },
   "source": [
    "### Data Schema\n",
    "\n",
    "The data is divided in multiple datasets for better understanding and organization. Please refer to the following data schema when working with it: \n",
    "\n",
    "![Data Schema](https://i.imgur.com/HRhd2Y0.png)"
   ]
  },
  {
   "cell_type": "markdown",
   "metadata": {
    "colab_type": "text",
    "id": "808v5s20XD7s"
   },
   "source": [
    "### Read data from CSV file with pandas"
   ]
  },
  {
   "cell_type": "code",
   "execution_count": 3,
   "metadata": {
    "ExecuteTime": {
     "end_time": "2019-11-03T05:33:44.209485Z",
     "start_time": "2019-11-03T05:33:41.348482Z"
    }
   },
   "outputs": [
    {
     "name": "stdout",
     "output_type": "stream",
     "text": [
      "olist_sellers_dataset\n",
      "product_category_name_translation\n",
      "olist_orders_dataset\n",
      "olist_order_items_dataset\n",
      "olist_customers_dataset\n",
      "olist_geolocation_dataset\n",
      "olist_order_payments_dataset\n",
      "olist_order_reviews_dataset\n",
      "olist_products_dataset\n"
     ]
    }
   ],
   "source": [
    "filenames = glob.glob(path)\n",
    "pd_list = {}\n",
    "\n",
    "for filename in filenames:\n",
    "    name = filename.split(\"/\")[-1].split(\".\")[0]\n",
    "    pd_list[name] = pd.read_csv(os.path.join(filename))\n",
    "    \n",
    "\n",
    "for key,value in pd_list.items():\n",
    "    print(key)\n"
   ]
  },
  {
   "cell_type": "code",
   "execution_count": 4,
   "metadata": {
    "ExecuteTime": {
     "end_time": "2019-11-03T05:33:44.290015Z",
     "start_time": "2019-11-03T05:33:44.211892Z"
    }
   },
   "outputs": [],
   "source": [
    "cates = pd_list['product_category_name_translation'].set_index('product_category_name')\n",
    "product_name = pd_list['olist_products_dataset'].set_index('product_id')\n",
    "c_to_o = pd_list['olist_orders_dataset'].set_index('customer_id')[\"order_id\"]\n",
    "def categorized(series):\n",
    "    return [product_name.loc[i][\"product_category_name\"] for i in series]\n",
    "def concat(series):\n",
    "#     for i in series:\n",
    "#         for j in p.loc[c_to_o.loc[i]][\"cate\"]:\n",
    "#             print(j)\n",
    "    try:\n",
    "        return [ j  for i in series for j in p.loc[c_to_o.loc[i]][\"cate\"]]\n",
    "    except:\n",
    "        return[]\n"
   ]
  },
  {
   "cell_type": "code",
   "execution_count": 5,
   "metadata": {
    "ExecuteTime": {
     "end_time": "2019-11-03T05:34:15.888339Z",
     "start_time": "2019-11-03T05:33:44.292286Z"
    }
   },
   "outputs": [],
   "source": [
    "order = pd.DataFrame(pd_list['olist_order_items_dataset'][[\"order_id\",\"product_id\"]])\n",
    "p = pd.DataFrame(pd_list['olist_order_items_dataset'].groupby('order_id')[\"product_id\"].apply(list))\n",
    "p[\"cate\"] = pd.DataFrame(p[\"product_id\"].apply(categorized))\n"
   ]
  },
  {
   "cell_type": "code",
   "execution_count": 6,
   "metadata": {
    "ExecuteTime": {
     "end_time": "2019-11-03T05:34:22.974896Z",
     "start_time": "2019-11-03T05:34:15.892317Z"
    }
   },
   "outputs": [
    {
     "data": {
      "text/html": [
       "<div>\n",
       "<style>\n",
       "    .dataframe thead tr:only-child th {\n",
       "        text-align: right;\n",
       "    }\n",
       "\n",
       "    .dataframe thead th {\n",
       "        text-align: left;\n",
       "    }\n",
       "\n",
       "    .dataframe tbody tr th {\n",
       "        vertical-align: top;\n",
       "    }\n",
       "</style>\n",
       "<table border=\"1\" class=\"dataframe\">\n",
       "  <thead>\n",
       "    <tr style=\"text-align: right;\">\n",
       "      <th></th>\n",
       "      <th>customer_id</th>\n",
       "    </tr>\n",
       "    <tr>\n",
       "      <th>customer_unique_id</th>\n",
       "      <th></th>\n",
       "    </tr>\n",
       "  </thead>\n",
       "  <tbody>\n",
       "    <tr>\n",
       "      <th>0000366f3b9a7992bf8c76cfdf3221e2</th>\n",
       "      <td>[fadbb3709178fc513abc1b2670aa1ad2]</td>\n",
       "    </tr>\n",
       "    <tr>\n",
       "      <th>0000b849f77a49e4a4ce2b2a4ca5be3f</th>\n",
       "      <td>[4cb282e167ae9234755102258dd52ee8]</td>\n",
       "    </tr>\n",
       "    <tr>\n",
       "      <th>0000f46a3911fa3c0805444483337064</th>\n",
       "      <td>[9b3932a6253894a02c1df9d19004239f]</td>\n",
       "    </tr>\n",
       "    <tr>\n",
       "      <th>0000f6ccb0745a6a4b88665a16c9f078</th>\n",
       "      <td>[914991f0c02ef0843c0e7010c819d642]</td>\n",
       "    </tr>\n",
       "    <tr>\n",
       "      <th>0004aac84e0df4da2b147fca70cf8255</th>\n",
       "      <td>[47227568b10f5f58a524a75507e6992c]</td>\n",
       "    </tr>\n",
       "  </tbody>\n",
       "</table>\n",
       "</div>"
      ],
      "text/plain": [
       "                                                         customer_id\n",
       "customer_unique_id                                                  \n",
       "0000366f3b9a7992bf8c76cfdf3221e2  [fadbb3709178fc513abc1b2670aa1ad2]\n",
       "0000b849f77a49e4a4ce2b2a4ca5be3f  [4cb282e167ae9234755102258dd52ee8]\n",
       "0000f46a3911fa3c0805444483337064  [9b3932a6253894a02c1df9d19004239f]\n",
       "0000f6ccb0745a6a4b88665a16c9f078  [914991f0c02ef0843c0e7010c819d642]\n",
       "0004aac84e0df4da2b147fca70cf8255  [47227568b10f5f58a524a75507e6992c]"
      ]
     },
     "execution_count": 6,
     "metadata": {},
     "output_type": "execute_result"
    }
   ],
   "source": [
    "customer = pd.DataFrame(pd_list['olist_customers_dataset'][[\"customer_unique_id\",\"customer_id\"]])\n",
    "b = pd.DataFrame(pd_list['olist_customers_dataset'].groupby('customer_unique_id')[\"customer_id\"].apply(list))\n",
    "b.head()"
   ]
  },
  {
   "cell_type": "code",
   "execution_count": 8,
   "metadata": {
    "ExecuteTime": {
     "end_time": "2019-11-03T05:36:29.223644Z",
     "start_time": "2019-11-03T05:36:11.216187Z"
    }
   },
   "outputs": [],
   "source": [
    "b[\"cates\"] = b[\"customer_id\"].apply(concat)\n",
    "#b[\"cates\"].head()"
   ]
  },
  {
   "cell_type": "markdown",
   "metadata": {},
   "source": [
    "### Clustering:\n",
    "**1.one-hot-encode**"
   ]
  },
  {
   "cell_type": "code",
   "execution_count": null,
   "metadata": {},
   "outputs": [],
   "source": [
    "def one_hots(series, name):\n",
    "    return 1 else 0 if name in series "
   ]
  },
  {
   "cell_type": "code",
   "execution_count": 1,
   "metadata": {
    "ExecuteTime": {
     "end_time": "2019-11-03T05:36:31.072126Z",
     "start_time": "2019-11-03T05:36:31.063482Z"
    }
   },
   "outputs": [
    {
     "ename": "NameError",
     "evalue": "name 'cates' is not defined",
     "output_type": "error",
     "traceback": [
      "\u001b[0;31m---------------------------------------------------------------------------\u001b[0m",
      "\u001b[0;31mNameError\u001b[0m                                 Traceback (most recent call last)",
      "\u001b[0;32m<ipython-input-1-44d410acc4c0>\u001b[0m in \u001b[0;36m<module>\u001b[0;34m\u001b[0m\n\u001b[0;32m----> 1\u001b[0;31m \u001b[0mcates_array\u001b[0m \u001b[0;34m=\u001b[0m \u001b[0mcates\u001b[0m\u001b[0;34m.\u001b[0m\u001b[0mindex\u001b[0m\u001b[0;34m.\u001b[0m\u001b[0mto_list\u001b[0m\u001b[0;34m(\u001b[0m\u001b[0;34m)\u001b[0m\u001b[0;34m\u001b[0m\u001b[0;34m\u001b[0m\u001b[0m\n\u001b[0m\u001b[1;32m      2\u001b[0m \u001b[0;34m\u001b[0m\u001b[0m\n",
      "\u001b[0;31mNameError\u001b[0m: name 'cates' is not defined"
     ]
    }
   ],
   "source": [
    "cates_array = cates.index.to_list()\n",
    "for cate in cates_array:\n",
    "    # print(cate)\n",
    "    b[cate] = b['cates'].apply(one_hots, name = cate)\n",
    "\n"
   ]
  },
  {
   "cell_type": "markdown",
   "metadata": {},
   "source": [
    "**2. clustering (by KMEANS)**"
   ]
  },
  {
   "cell_type": "code",
   "execution_count": null,
   "metadata": {},
   "outputs": [],
   "source": [
    "def clustering(item_arrays, number_of_clusters) :\n",
    "    kmeans_fit = cluster.KMeans(n_clusters = number_of_clusters ).fit(item_arrays)\n",
    "    k = kmeans_fit.labels_\n",
    "    print(collections.Counter(k))\n",
    "    return kmeans_fit\n",
    "\n",
    "result = clustering(b[cates_array], 10)"
   ]
  }
 ],
 "metadata": {
  "accelerator": "GPU",
  "colab": {
   "collapsed_sections": [],
   "name": "test.ipynb",
   "provenance": []
  },
  "kernelspec": {
   "display_name": "Python 3",
   "language": "python",
   "name": "python3"
  },
  "language_info": {
   "codemirror_mode": {
    "name": "ipython",
    "version": 3
   },
   "file_extension": ".py",
   "mimetype": "text/x-python",
   "name": "python",
   "nbconvert_exporter": "python",
   "pygments_lexer": "ipython3",
   "version": "3.7.4"
  },
  "latex_envs": {
   "LaTeX_envs_menu_present": true,
   "autoclose": false,
   "autocomplete": true,
   "bibliofile": "biblio.bib",
   "cite_by": "apalike",
   "current_citInitial": 1,
   "eqLabelWithNumbers": true,
   "eqNumInitial": 1,
   "hotkeys": {
    "equation": "Ctrl-E",
    "itemize": "Ctrl-I"
   },
   "labels_anchors": false,
   "latex_user_defs": false,
   "report_style_numbering": false,
   "user_envs_cfg": false
  },
  "toc": {
   "base_numbering": 1,
   "nav_menu": {},
   "number_sections": true,
   "sideBar": true,
   "skip_h1_title": false,
   "title_cell": "Table of Contents",
   "title_sidebar": "Contents",
   "toc_cell": false,
   "toc_position": {
    "height": "calc(100% - 180px)",
    "left": "10px",
    "top": "150px",
    "width": "165px"
   },
   "toc_section_display": true,
   "toc_window_display": true
  }
 },
 "nbformat": 4,
 "nbformat_minor": 1
}
